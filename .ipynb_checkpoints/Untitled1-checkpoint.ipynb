{
 "cells": [
  {
   "cell_type": "code",
   "execution_count": 6,
   "id": "5e316c6c",
   "metadata": {},
   "outputs": [],
   "source": [
    "import os\n",
    "import numpy as np\n",
    "import configparser\n",
    "import json\n",
    "\n",
    "def ra_dec_builder(ra_n, dec_n, N):\n",
    "    \n",
    "    #create data folder, link/import important files\n",
    "    os.chdir(\"dirs_folder\")\n",
    "    name=str(ra_n)+\"_\"+str(dec_n)\n",
    "    os.mkdir(name)\n",
    "    os.chdir(name)\n",
    "    os.system(\"ln -s ../../data_and_methods/get_injection_times.py\")\n",
    "    os.system(\"ln -s ../../data_and_methods/create_datafile.py\")\n",
    "    os.system(\"cp ../../data_and_methods/aligo_O4high_extrapolated.txt .\")\n",
    "    os.system(\"cp ../../data_and_methods/avirgo_O4high_NEW.txt .\")\n",
    "    os.system(\"cp ../../data_and_methods/inj_config.ini .\")\n",
    " \n",
    "\n",
    "    #edit the inj_config file\n",
    "    parser = configparser.ConfigParser()\n",
    "    parser.read('inj_config.ini')\n",
    "    RA=str(2*np.pi*(ra_n/N))\n",
    "    DEC=str(np.pi*(dec_n/N))\n",
    "    parser.set('extrinsic', 'ra', RA)\n",
    "    parser.set('extrinsic', 'dec', DEC)\n",
    "    with open('inj_config.ini', 'w') as config_file:\n",
    "        parser.write(config_file)\n",
    "    \n",
    "    \n",
    "    #create the waveform data for L1/H1/V1\n",
    "    os.system(\"python create_datafile.py -c  inj_config.ini -o injection.hdf5\")\n",
    "    \n",
    "    \n",
    "    #find the max times and send it to the output folder \n",
    "    import get_injection_times as gert\n",
    "    DETS=[\"L\",\"V\",\"H\"]\n",
    "\n",
    "    for DET in DETS: \n",
    "        print(\"measuring {}1...\".format(DET))  \n",
    "        frame_file=\"{}-{}1_STRAIN-1264068796-870.gwf\".format(DET,DET)\n",
    "        channel=\"{}1:SIM-STRAIN\".format(DET)\n",
    "        coa_time=gert.get_trigger_time(\"inj_config.ini\", frame_file, channel)\n",
    "    \n",
    "        print(\"dumping {}1...\".format(DET))\n",
    "        key_ra_dec=str(ra_n)+\"_\"+str(dec_n)\n",
    "        COA_DIC={key_ra_dec : coa_time }\n",
    "        with open(\"../../indiv_timekey_folder/{}1_keys/{}1_{}_{}.json\".format(DET,DET,str(ra_n),str(dec_n)), \"w\") as f:\n",
    "            json.dump(COA_DIC, f, indent=2, sort_keys=True)\n",
    "\n",
    "    os.chdir(\"../../\")"
   ]
  },
  {
   "cell_type": "code",
   "execution_count": 1,
   "id": "0875a867",
   "metadata": {},
   "outputs": [
    {
     "name": "stderr",
     "output_type": "stream",
     "text": [
      "PyCBC.libutils: pkg-config call failed, setting NO_PKGCONFIG=1\n"
     ]
    }
   ],
   "source": [
    "import os\n",
    "import sys\n",
    "import configparser\n",
    "import argparse\n",
    "\n",
    "import numpy as np\n",
    "\n",
    "import pycbc.waveform\n",
    "from pycbc.detector import Detector\n",
    "from pycbc.io import FieldArray\n",
    "from pycbc.inject import InjectionSet\n"
   ]
  },
  {
   "cell_type": "code",
   "execution_count": null,
   "id": "c6613eac",
   "metadata": {},
   "outputs": [],
   "source": []
  }
 ],
 "metadata": {
  "kernelspec": {
   "display_name": "h0dir",
   "language": "python",
   "name": "h0dir"
  },
  "language_info": {
   "codemirror_mode": {
    "name": "ipython",
    "version": 3
   },
   "file_extension": ".py",
   "mimetype": "text/x-python",
   "name": "python",
   "nbconvert_exporter": "python",
   "pygments_lexer": "ipython3",
   "version": "3.9.5"
  }
 },
 "nbformat": 4,
 "nbformat_minor": 5
}
