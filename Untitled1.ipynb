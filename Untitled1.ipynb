{
 "cells": [
  {
   "cell_type": "code",
   "execution_count": 6,
   "id": "5e316c6c",
   "metadata": {},
   "outputs": [],
   "source": [
    "import os\n",
    "import numpy as np\n",
    "import configparser\n",
    "import json\n",
    "\n",
    "def ra_dec_builder(ra_n, dec_n, N):\n",
    "    \n",
    "    #create data folder, link/import important files\n",
    "    os.chdir(\"dirs_folder\")\n",
    "    name=str(ra_n)+\"_\"+str(dec_n)\n",
    "    os.mkdir(name)\n",
    "    os.chdir(name)\n",
    "    os.system(\"ln -s ../../data_and_methods/get_injection_times.py\")\n",
    "    os.system(\"ln -s ../../data_and_methods/create_datafile.py\")\n",
    "    os.system(\"cp ../../data_and_methods/aligo_O4high_extrapolated.txt .\")\n",
    "    os.system(\"cp ../../data_and_methods/avirgo_O4high_NEW.txt .\")\n",
    "    os.system(\"cp ../../data_and_methods/inj_config.ini .\")\n",
    " \n",
    "\n",
    "    #edit the inj_config file\n",
    "    parser = configparser.ConfigParser()\n",
    "    parser.read('inj_config.ini')\n",
    "    RA=str(2*np.pi*(ra_n/N))\n",
    "    DEC=str(np.pi*(dec_n/N))\n",
    "    parser.set('extrinsic', 'ra', RA)\n",
    "    parser.set('extrinsic', 'dec', DEC)\n",
    "    with open('inj_config.ini', 'w') as config_file:\n",
    "        parser.write(config_file)\n",
    "    \n",
    "    \n",
    "    #create the waveform data for L1/H1/V1\n",
    "    os.system(\"python create_datafile.py -c  inj_config.ini -o injection.hdf5\")\n",
    "    \n",
    "    \n",
    "    #find the max times and send it to the output folder \n",
    "    import get_injection_times as gert\n",
    "    DETS=[\"L\",\"V\",\"H\"]\n",
    "\n",
    "    for DET in DETS: \n",
    "        print(\"measuring {}1...\".format(DET))  \n",
    "        frame_file=\"{}-{}1_STRAIN-1264068796-870.gwf\".format(DET,DET)\n",
    "        channel=\"{}1:SIM-STRAIN\".format(DET)\n",
    "        coa_time=gert.get_trigger_time(\"inj_config.ini\", frame_file, channel)\n",
    "    \n",
    "        print(\"dumping {}1...\".format(DET))\n",
    "        key_ra_dec=str(ra_n)+\"_\"+str(dec_n)\n",
    "        COA_DIC={key_ra_dec : coa_time }\n",
    "        with open(\"../../indiv_timekey_folder/{}1_keys/{}1_{}_{}.json\".format(DET,DET,str(ra_n),str(dec_n)), \"w\") as f:\n",
    "            json.dump(COA_DIC, f, indent=2, sort_keys=True)\n",
    "\n",
    "    os.chdir(\"../../\")"
   ]
  },
  {
   "cell_type": "code",
   "execution_count": 4,
   "id": "7ada5d65",
   "metadata": {},
   "outputs": [],
   "source": [
    "from gwpy.timeseries import TimeSeries"
   ]
  },
  {
   "cell_type": "code",
   "execution_count": 5,
   "id": "80513103",
   "metadata": {},
   "outputs": [],
   "source": [
    "trigger_time = 1126259462\n",
    "roll_off = 0.4  # Roll off duration of tukey window in seconds, default is 0.4s\n",
    "duration = 4  # Analysis segment duration\n",
    "post_trigger_duration = 2  # Time between trigger time and end of segment\n",
    "end_time = trigger_time + post_trigger_duration\n",
    "start_time = end_time - duration\n",
    "det=\"L1\"\n",
    "data = TimeSeries.fetch_open_data(det, start_time, end_time)"
   ]
  },
  {
   "cell_type": "code",
   "execution_count": 2,
   "id": "47942b51",
   "metadata": {},
   "outputs": [],
   "source": [
    "from matplotlib import pyplot as pl"
   ]
  },
  {
   "cell_type": "code",
   "execution_count": 9,
   "id": "5bd0d123",
   "metadata": {},
   "outputs": [
    {
     "name": "stdout",
     "output_type": "stream",
     "text": [
      "Using matplotlib backend: MacOSX\n"
     ]
    }
   ],
   "source": [
    "%matplotlib\n",
    "pl.plot(data.times,data.value)\n",
    "pl.show()"
   ]
  },
  {
   "cell_type": "code",
   "execution_count": 10,
   "id": "ad9124b0",
   "metadata": {},
   "outputs": [],
   "source": [
    "TimeSeries.read"
   ]
  },
  {
   "cell_type": "code",
   "execution_count": 12,
   "id": "a8561b47",
   "metadata": {},
   "outputs": [
    {
     "name": "stdout",
     "output_type": "stream",
     "text": [
      "{x}\n"
     ]
    }
   ],
   "source": [
    "x=3\n",
    "print(\"{}\".format(\"{x}\"))"
   ]
  },
  {
   "cell_type": "code",
   "execution_count": 14,
   "id": "7bf53116",
   "metadata": {},
   "outputs": [
    {
     "data": {
      "text/plain": [
       "4.0"
      ]
     },
     "execution_count": 14,
     "metadata": {},
     "output_type": "execute_result"
    }
   ],
   "source": [
    "import numpy as np\n",
    "np.ceil(3.4)"
   ]
  },
  {
   "cell_type": "code",
   "execution_count": 18,
   "id": "239f5bfd",
   "metadata": {},
   "outputs": [],
   "source": [
    "x=\"hello, {}\""
   ]
  },
  {
   "cell_type": "code",
   "execution_count": 19,
   "id": "df61b450",
   "metadata": {},
   "outputs": [
    {
     "data": {
      "text/plain": [
       "'hello, 2'"
      ]
     },
     "execution_count": 19,
     "metadata": {},
     "output_type": "execute_result"
    }
   ],
   "source": [
    "x.format(2)"
   ]
  },
  {
   "cell_type": "code",
   "execution_count": 17,
   "id": "b6d85394",
   "metadata": {},
   "outputs": [
    {
     "data": {
      "text/plain": [
       "'{}'"
      ]
     },
     "execution_count": 17,
     "metadata": {},
     "output_type": "execute_result"
    }
   ],
   "source": [
    "x"
   ]
  },
  {
   "cell_type": "code",
   "execution_count": 20,
   "id": "ffb77620",
   "metadata": {},
   "outputs": [
    {
     "name": "stdout",
     "output_type": "stream",
     "text": [
      "GW150914_edit_ghosh_wilde.py   create_datafile.py\r\n",
      "Untitled1.ipynb                get_injection_times.py\r\n",
      "aligo_O4high_extrapolated.txt  inj_config.ini\r\n",
      "avirgo_O4high_NEW.txt          injection_new.hdf\r\n"
     ]
    }
   ],
   "source": [
    "ls\n"
   ]
  },
  {
   "cell_type": "code",
   "execution_count": null,
   "id": "5c9e1db3",
   "metadata": {},
   "outputs": [],
   "source": [
    "os.()"
   ]
  }
 ],
 "metadata": {
  "kernelspec": {
   "display_name": "h0dir",
   "language": "python",
   "name": "h0dir"
  },
  "language_info": {
   "codemirror_mode": {
    "name": "ipython",
    "version": 3
   },
   "file_extension": ".py",
   "mimetype": "text/x-python",
   "name": "python",
   "nbconvert_exporter": "python",
   "pygments_lexer": "ipython3",
   "version": "3.9.5"
  }
 },
 "nbformat": 4,
 "nbformat_minor": 5
}
